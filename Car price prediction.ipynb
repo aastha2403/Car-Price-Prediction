{
 "cells": [
  {
   "cell_type": "code",
   "execution_count": 2,
   "id": "47dcaa63",
   "metadata": {},
   "outputs": [],
   "source": [
    "# Import the required packages\n",
    "import numpy as np\n",
    "import pandas as pd\n",
    "import seaborn as sb\n",
    "import matplotlib.pyplot as mp\n",
    "%matplotlib inline\n",
    "from matplotlib.pyplot import xticks"
   ]
  },
  {
   "cell_type": "code",
   "execution_count": 5,
   "id": "7567cada",
   "metadata": {},
   "outputs": [],
   "source": [
    "# Reading the csv file\n",
    "df = pd.DataFrame(pd.read_csv(\"C:/Users/Aastha/Desktop/Aastha/Datacamp/Python/CarPrice_Assignment.csv\"))"
   ]
  },
  {
   "cell_type": "code",
   "execution_count": 8,
   "id": "bae9765e",
   "metadata": {},
   "outputs": [
    {
     "data": {
      "text/html": [
       "<div>\n",
       "<style scoped>\n",
       "    .dataframe tbody tr th:only-of-type {\n",
       "        vertical-align: middle;\n",
       "    }\n",
       "\n",
       "    .dataframe tbody tr th {\n",
       "        vertical-align: top;\n",
       "    }\n",
       "\n",
       "    .dataframe thead th {\n",
       "        text-align: right;\n",
       "    }\n",
       "</style>\n",
       "<table border=\"1\" class=\"dataframe\">\n",
       "  <thead>\n",
       "    <tr style=\"text-align: right;\">\n",
       "      <th></th>\n",
       "      <th>car_ID</th>\n",
       "      <th>symboling</th>\n",
       "      <th>CarName</th>\n",
       "      <th>fueltype</th>\n",
       "      <th>aspiration</th>\n",
       "      <th>doornumber</th>\n",
       "      <th>carbody</th>\n",
       "      <th>drivewheel</th>\n",
       "      <th>enginelocation</th>\n",
       "      <th>wheelbase</th>\n",
       "      <th>...</th>\n",
       "      <th>enginesize</th>\n",
       "      <th>fuelsystem</th>\n",
       "      <th>boreratio</th>\n",
       "      <th>stroke</th>\n",
       "      <th>compressionratio</th>\n",
       "      <th>horsepower</th>\n",
       "      <th>peakrpm</th>\n",
       "      <th>citympg</th>\n",
       "      <th>highwaympg</th>\n",
       "      <th>price</th>\n",
       "    </tr>\n",
       "  </thead>\n",
       "  <tbody>\n",
       "    <tr>\n",
       "      <th>0</th>\n",
       "      <td>1</td>\n",
       "      <td>3</td>\n",
       "      <td>alfa-romero giulia</td>\n",
       "      <td>gas</td>\n",
       "      <td>std</td>\n",
       "      <td>two</td>\n",
       "      <td>convertible</td>\n",
       "      <td>rwd</td>\n",
       "      <td>front</td>\n",
       "      <td>88.6</td>\n",
       "      <td>...</td>\n",
       "      <td>130</td>\n",
       "      <td>mpfi</td>\n",
       "      <td>3.47</td>\n",
       "      <td>2.68</td>\n",
       "      <td>9.0</td>\n",
       "      <td>111</td>\n",
       "      <td>5000</td>\n",
       "      <td>21</td>\n",
       "      <td>27</td>\n",
       "      <td>13495.0</td>\n",
       "    </tr>\n",
       "    <tr>\n",
       "      <th>1</th>\n",
       "      <td>2</td>\n",
       "      <td>3</td>\n",
       "      <td>alfa-romero stelvio</td>\n",
       "      <td>gas</td>\n",
       "      <td>std</td>\n",
       "      <td>two</td>\n",
       "      <td>convertible</td>\n",
       "      <td>rwd</td>\n",
       "      <td>front</td>\n",
       "      <td>88.6</td>\n",
       "      <td>...</td>\n",
       "      <td>130</td>\n",
       "      <td>mpfi</td>\n",
       "      <td>3.47</td>\n",
       "      <td>2.68</td>\n",
       "      <td>9.0</td>\n",
       "      <td>111</td>\n",
       "      <td>5000</td>\n",
       "      <td>21</td>\n",
       "      <td>27</td>\n",
       "      <td>16500.0</td>\n",
       "    </tr>\n",
       "    <tr>\n",
       "      <th>2</th>\n",
       "      <td>3</td>\n",
       "      <td>1</td>\n",
       "      <td>alfa-romero Quadrifoglio</td>\n",
       "      <td>gas</td>\n",
       "      <td>std</td>\n",
       "      <td>two</td>\n",
       "      <td>hatchback</td>\n",
       "      <td>rwd</td>\n",
       "      <td>front</td>\n",
       "      <td>94.5</td>\n",
       "      <td>...</td>\n",
       "      <td>152</td>\n",
       "      <td>mpfi</td>\n",
       "      <td>2.68</td>\n",
       "      <td>3.47</td>\n",
       "      <td>9.0</td>\n",
       "      <td>154</td>\n",
       "      <td>5000</td>\n",
       "      <td>19</td>\n",
       "      <td>26</td>\n",
       "      <td>16500.0</td>\n",
       "    </tr>\n",
       "    <tr>\n",
       "      <th>3</th>\n",
       "      <td>4</td>\n",
       "      <td>2</td>\n",
       "      <td>audi 100 ls</td>\n",
       "      <td>gas</td>\n",
       "      <td>std</td>\n",
       "      <td>four</td>\n",
       "      <td>sedan</td>\n",
       "      <td>fwd</td>\n",
       "      <td>front</td>\n",
       "      <td>99.8</td>\n",
       "      <td>...</td>\n",
       "      <td>109</td>\n",
       "      <td>mpfi</td>\n",
       "      <td>3.19</td>\n",
       "      <td>3.40</td>\n",
       "      <td>10.0</td>\n",
       "      <td>102</td>\n",
       "      <td>5500</td>\n",
       "      <td>24</td>\n",
       "      <td>30</td>\n",
       "      <td>13950.0</td>\n",
       "    </tr>\n",
       "    <tr>\n",
       "      <th>4</th>\n",
       "      <td>5</td>\n",
       "      <td>2</td>\n",
       "      <td>audi 100ls</td>\n",
       "      <td>gas</td>\n",
       "      <td>std</td>\n",
       "      <td>four</td>\n",
       "      <td>sedan</td>\n",
       "      <td>4wd</td>\n",
       "      <td>front</td>\n",
       "      <td>99.4</td>\n",
       "      <td>...</td>\n",
       "      <td>136</td>\n",
       "      <td>mpfi</td>\n",
       "      <td>3.19</td>\n",
       "      <td>3.40</td>\n",
       "      <td>8.0</td>\n",
       "      <td>115</td>\n",
       "      <td>5500</td>\n",
       "      <td>18</td>\n",
       "      <td>22</td>\n",
       "      <td>17450.0</td>\n",
       "    </tr>\n",
       "  </tbody>\n",
       "</table>\n",
       "<p>5 rows × 26 columns</p>\n",
       "</div>"
      ],
      "text/plain": [
       "   car_ID  symboling                   CarName fueltype aspiration doornumber  \\\n",
       "0       1          3        alfa-romero giulia      gas        std        two   \n",
       "1       2          3       alfa-romero stelvio      gas        std        two   \n",
       "2       3          1  alfa-romero Quadrifoglio      gas        std        two   \n",
       "3       4          2               audi 100 ls      gas        std       four   \n",
       "4       5          2                audi 100ls      gas        std       four   \n",
       "\n",
       "       carbody drivewheel enginelocation  wheelbase  ...  enginesize  \\\n",
       "0  convertible        rwd          front       88.6  ...         130   \n",
       "1  convertible        rwd          front       88.6  ...         130   \n",
       "2    hatchback        rwd          front       94.5  ...         152   \n",
       "3        sedan        fwd          front       99.8  ...         109   \n",
       "4        sedan        4wd          front       99.4  ...         136   \n",
       "\n",
       "   fuelsystem  boreratio  stroke compressionratio horsepower  peakrpm citympg  \\\n",
       "0        mpfi       3.47    2.68              9.0        111     5000      21   \n",
       "1        mpfi       3.47    2.68              9.0        111     5000      21   \n",
       "2        mpfi       2.68    3.47              9.0        154     5000      19   \n",
       "3        mpfi       3.19    3.40             10.0        102     5500      24   \n",
       "4        mpfi       3.19    3.40              8.0        115     5500      18   \n",
       "\n",
       "   highwaympg    price  \n",
       "0          27  13495.0  \n",
       "1          27  16500.0  \n",
       "2          26  16500.0  \n",
       "3          30  13950.0  \n",
       "4          22  17450.0  \n",
       "\n",
       "[5 rows x 26 columns]"
      ]
     },
     "execution_count": 8,
     "metadata": {},
     "output_type": "execute_result"
    }
   ],
   "source": [
    "# To see the first five rows from csv file\n",
    "df.head()"
   ]
  },
  {
   "cell_type": "code",
   "execution_count": 9,
   "id": "bf5d58b6",
   "metadata": {},
   "outputs": [
    {
     "data": {
      "text/html": [
       "<div>\n",
       "<style scoped>\n",
       "    .dataframe tbody tr th:only-of-type {\n",
       "        vertical-align: middle;\n",
       "    }\n",
       "\n",
       "    .dataframe tbody tr th {\n",
       "        vertical-align: top;\n",
       "    }\n",
       "\n",
       "    .dataframe thead th {\n",
       "        text-align: right;\n",
       "    }\n",
       "</style>\n",
       "<table border=\"1\" class=\"dataframe\">\n",
       "  <thead>\n",
       "    <tr style=\"text-align: right;\">\n",
       "      <th></th>\n",
       "      <th>car_ID</th>\n",
       "      <th>symboling</th>\n",
       "      <th>CarName</th>\n",
       "      <th>fueltype</th>\n",
       "      <th>aspiration</th>\n",
       "      <th>doornumber</th>\n",
       "      <th>carbody</th>\n",
       "      <th>drivewheel</th>\n",
       "      <th>enginelocation</th>\n",
       "      <th>wheelbase</th>\n",
       "      <th>...</th>\n",
       "      <th>enginesize</th>\n",
       "      <th>fuelsystem</th>\n",
       "      <th>boreratio</th>\n",
       "      <th>stroke</th>\n",
       "      <th>compressionratio</th>\n",
       "      <th>horsepower</th>\n",
       "      <th>peakrpm</th>\n",
       "      <th>citympg</th>\n",
       "      <th>highwaympg</th>\n",
       "      <th>price</th>\n",
       "    </tr>\n",
       "  </thead>\n",
       "  <tbody>\n",
       "    <tr>\n",
       "      <th>200</th>\n",
       "      <td>201</td>\n",
       "      <td>-1</td>\n",
       "      <td>volvo 145e (sw)</td>\n",
       "      <td>gas</td>\n",
       "      <td>std</td>\n",
       "      <td>four</td>\n",
       "      <td>sedan</td>\n",
       "      <td>rwd</td>\n",
       "      <td>front</td>\n",
       "      <td>109.1</td>\n",
       "      <td>...</td>\n",
       "      <td>141</td>\n",
       "      <td>mpfi</td>\n",
       "      <td>3.78</td>\n",
       "      <td>3.15</td>\n",
       "      <td>9.5</td>\n",
       "      <td>114</td>\n",
       "      <td>5400</td>\n",
       "      <td>23</td>\n",
       "      <td>28</td>\n",
       "      <td>16845.0</td>\n",
       "    </tr>\n",
       "    <tr>\n",
       "      <th>201</th>\n",
       "      <td>202</td>\n",
       "      <td>-1</td>\n",
       "      <td>volvo 144ea</td>\n",
       "      <td>gas</td>\n",
       "      <td>turbo</td>\n",
       "      <td>four</td>\n",
       "      <td>sedan</td>\n",
       "      <td>rwd</td>\n",
       "      <td>front</td>\n",
       "      <td>109.1</td>\n",
       "      <td>...</td>\n",
       "      <td>141</td>\n",
       "      <td>mpfi</td>\n",
       "      <td>3.78</td>\n",
       "      <td>3.15</td>\n",
       "      <td>8.7</td>\n",
       "      <td>160</td>\n",
       "      <td>5300</td>\n",
       "      <td>19</td>\n",
       "      <td>25</td>\n",
       "      <td>19045.0</td>\n",
       "    </tr>\n",
       "    <tr>\n",
       "      <th>202</th>\n",
       "      <td>203</td>\n",
       "      <td>-1</td>\n",
       "      <td>volvo 244dl</td>\n",
       "      <td>gas</td>\n",
       "      <td>std</td>\n",
       "      <td>four</td>\n",
       "      <td>sedan</td>\n",
       "      <td>rwd</td>\n",
       "      <td>front</td>\n",
       "      <td>109.1</td>\n",
       "      <td>...</td>\n",
       "      <td>173</td>\n",
       "      <td>mpfi</td>\n",
       "      <td>3.58</td>\n",
       "      <td>2.87</td>\n",
       "      <td>8.8</td>\n",
       "      <td>134</td>\n",
       "      <td>5500</td>\n",
       "      <td>18</td>\n",
       "      <td>23</td>\n",
       "      <td>21485.0</td>\n",
       "    </tr>\n",
       "    <tr>\n",
       "      <th>203</th>\n",
       "      <td>204</td>\n",
       "      <td>-1</td>\n",
       "      <td>volvo 246</td>\n",
       "      <td>diesel</td>\n",
       "      <td>turbo</td>\n",
       "      <td>four</td>\n",
       "      <td>sedan</td>\n",
       "      <td>rwd</td>\n",
       "      <td>front</td>\n",
       "      <td>109.1</td>\n",
       "      <td>...</td>\n",
       "      <td>145</td>\n",
       "      <td>idi</td>\n",
       "      <td>3.01</td>\n",
       "      <td>3.40</td>\n",
       "      <td>23.0</td>\n",
       "      <td>106</td>\n",
       "      <td>4800</td>\n",
       "      <td>26</td>\n",
       "      <td>27</td>\n",
       "      <td>22470.0</td>\n",
       "    </tr>\n",
       "    <tr>\n",
       "      <th>204</th>\n",
       "      <td>205</td>\n",
       "      <td>-1</td>\n",
       "      <td>volvo 264gl</td>\n",
       "      <td>gas</td>\n",
       "      <td>turbo</td>\n",
       "      <td>four</td>\n",
       "      <td>sedan</td>\n",
       "      <td>rwd</td>\n",
       "      <td>front</td>\n",
       "      <td>109.1</td>\n",
       "      <td>...</td>\n",
       "      <td>141</td>\n",
       "      <td>mpfi</td>\n",
       "      <td>3.78</td>\n",
       "      <td>3.15</td>\n",
       "      <td>9.5</td>\n",
       "      <td>114</td>\n",
       "      <td>5400</td>\n",
       "      <td>19</td>\n",
       "      <td>25</td>\n",
       "      <td>22625.0</td>\n",
       "    </tr>\n",
       "  </tbody>\n",
       "</table>\n",
       "<p>5 rows × 26 columns</p>\n",
       "</div>"
      ],
      "text/plain": [
       "     car_ID  symboling          CarName fueltype aspiration doornumber  \\\n",
       "200     201         -1  volvo 145e (sw)      gas        std       four   \n",
       "201     202         -1      volvo 144ea      gas      turbo       four   \n",
       "202     203         -1      volvo 244dl      gas        std       four   \n",
       "203     204         -1        volvo 246   diesel      turbo       four   \n",
       "204     205         -1      volvo 264gl      gas      turbo       four   \n",
       "\n",
       "    carbody drivewheel enginelocation  wheelbase  ...  enginesize  fuelsystem  \\\n",
       "200   sedan        rwd          front      109.1  ...         141        mpfi   \n",
       "201   sedan        rwd          front      109.1  ...         141        mpfi   \n",
       "202   sedan        rwd          front      109.1  ...         173        mpfi   \n",
       "203   sedan        rwd          front      109.1  ...         145         idi   \n",
       "204   sedan        rwd          front      109.1  ...         141        mpfi   \n",
       "\n",
       "     boreratio  stroke compressionratio horsepower  peakrpm citympg  \\\n",
       "200       3.78    3.15              9.5        114     5400      23   \n",
       "201       3.78    3.15              8.7        160     5300      19   \n",
       "202       3.58    2.87              8.8        134     5500      18   \n",
       "203       3.01    3.40             23.0        106     4800      26   \n",
       "204       3.78    3.15              9.5        114     5400      19   \n",
       "\n",
       "     highwaympg    price  \n",
       "200          28  16845.0  \n",
       "201          25  19045.0  \n",
       "202          23  21485.0  \n",
       "203          27  22470.0  \n",
       "204          25  22625.0  \n",
       "\n",
       "[5 rows x 26 columns]"
      ]
     },
     "execution_count": 9,
     "metadata": {},
     "output_type": "execute_result"
    }
   ],
   "source": [
    "# To see the last five rows from csv file\n",
    "df.tail()"
   ]
  },
  {
   "cell_type": "code",
   "execution_count": 10,
   "id": "6182e78f",
   "metadata": {},
   "outputs": [
    {
     "data": {
      "text/plain": [
       "(205, 26)"
      ]
     },
     "execution_count": 10,
     "metadata": {},
     "output_type": "execute_result"
    }
   ],
   "source": [
    "# Data exploration\n",
    "df.shape"
   ]
  },
  {
   "cell_type": "code",
   "execution_count": 13,
   "id": "469e66a5",
   "metadata": {},
   "outputs": [
    {
     "name": "stdout",
     "output_type": "stream",
     "text": [
      "<class 'pandas.core.frame.DataFrame'>\n",
      "RangeIndex: 205 entries, 0 to 204\n",
      "Data columns (total 26 columns):\n",
      " #   Column            Non-Null Count  Dtype  \n",
      "---  ------            --------------  -----  \n",
      " 0   car_ID            205 non-null    int64  \n",
      " 1   symboling         205 non-null    int64  \n",
      " 2   CarName           205 non-null    object \n",
      " 3   fueltype          205 non-null    object \n",
      " 4   aspiration        205 non-null    object \n",
      " 5   doornumber        205 non-null    object \n",
      " 6   carbody           205 non-null    object \n",
      " 7   drivewheel        205 non-null    object \n",
      " 8   enginelocation    205 non-null    object \n",
      " 9   wheelbase         205 non-null    float64\n",
      " 10  carlength         205 non-null    float64\n",
      " 11  carwidth          205 non-null    float64\n",
      " 12  carheight         205 non-null    float64\n",
      " 13  curbweight        205 non-null    int64  \n",
      " 14  enginetype        205 non-null    object \n",
      " 15  cylindernumber    205 non-null    object \n",
      " 16  enginesize        205 non-null    int64  \n",
      " 17  fuelsystem        205 non-null    object \n",
      " 18  boreratio         205 non-null    float64\n",
      " 19  stroke            205 non-null    float64\n",
      " 20  compressionratio  205 non-null    float64\n",
      " 21  horsepower        205 non-null    int64  \n",
      " 22  peakrpm           205 non-null    int64  \n",
      " 23  citympg           205 non-null    int64  \n",
      " 24  highwaympg        205 non-null    int64  \n",
      " 25  price             205 non-null    float64\n",
      "dtypes: float64(8), int64(8), object(10)\n",
      "memory usage: 41.8+ KB\n"
     ]
    }
   ],
   "source": [
    "df.info()"
   ]
  },
  {
   "cell_type": "code",
   "execution_count": 15,
   "id": "660b108c",
   "metadata": {},
   "outputs": [
    {
     "data": {
      "text/plain": [
       "Index(['car_ID', 'symboling', 'CarName', 'fueltype', 'aspiration',\n",
       "       'doornumber', 'carbody', 'drivewheel', 'enginelocation', 'wheelbase',\n",
       "       'carlength', 'carwidth', 'carheight', 'curbweight', 'enginetype',\n",
       "       'cylindernumber', 'enginesize', 'fuelsystem', 'boreratio', 'stroke',\n",
       "       'compressionratio', 'horsepower', 'peakrpm', 'citympg', 'highwaympg',\n",
       "       'price'],\n",
       "      dtype='object')"
      ]
     },
     "execution_count": 15,
     "metadata": {},
     "output_type": "execute_result"
    }
   ],
   "source": [
    "# To get the names of all the columns\n",
    "df.columns"
   ]
  },
  {
   "cell_type": "code",
   "execution_count": 18,
   "id": "01868b7c",
   "metadata": {},
   "outputs": [
    {
     "data": {
      "text/plain": [
       "True"
      ]
     },
     "execution_count": 18,
     "metadata": {},
     "output_type": "execute_result"
    }
   ],
   "source": [
    "# Data Cleaning\n",
    "# To check if car_ID has duplicates; if True then no duplicate values\n",
    "sum(df.duplicated(subset = 'car_ID')) == 0"
   ]
  },
  {
   "cell_type": "code",
   "execution_count": 19,
   "id": "2a215a95",
   "metadata": {},
   "outputs": [
    {
     "data": {
      "text/html": [
       "<div>\n",
       "<style scoped>\n",
       "    .dataframe tbody tr th:only-of-type {\n",
       "        vertical-align: middle;\n",
       "    }\n",
       "\n",
       "    .dataframe tbody tr th {\n",
       "        vertical-align: top;\n",
       "    }\n",
       "\n",
       "    .dataframe thead th {\n",
       "        text-align: right;\n",
       "    }\n",
       "</style>\n",
       "<table border=\"1\" class=\"dataframe\">\n",
       "  <thead>\n",
       "    <tr style=\"text-align: right;\">\n",
       "      <th></th>\n",
       "      <th>car_ID</th>\n",
       "      <th>symboling</th>\n",
       "      <th>CarName</th>\n",
       "      <th>fueltype</th>\n",
       "      <th>aspiration</th>\n",
       "      <th>doornumber</th>\n",
       "      <th>carbody</th>\n",
       "      <th>drivewheel</th>\n",
       "      <th>enginelocation</th>\n",
       "      <th>wheelbase</th>\n",
       "      <th>...</th>\n",
       "      <th>enginesize</th>\n",
       "      <th>fuelsystem</th>\n",
       "      <th>boreratio</th>\n",
       "      <th>stroke</th>\n",
       "      <th>compressionratio</th>\n",
       "      <th>horsepower</th>\n",
       "      <th>peakrpm</th>\n",
       "      <th>citympg</th>\n",
       "      <th>highwaympg</th>\n",
       "      <th>price</th>\n",
       "    </tr>\n",
       "  </thead>\n",
       "  <tbody>\n",
       "    <tr>\n",
       "      <th>0</th>\n",
       "      <td>False</td>\n",
       "      <td>False</td>\n",
       "      <td>False</td>\n",
       "      <td>False</td>\n",
       "      <td>False</td>\n",
       "      <td>False</td>\n",
       "      <td>False</td>\n",
       "      <td>False</td>\n",
       "      <td>False</td>\n",
       "      <td>False</td>\n",
       "      <td>...</td>\n",
       "      <td>False</td>\n",
       "      <td>False</td>\n",
       "      <td>False</td>\n",
       "      <td>False</td>\n",
       "      <td>False</td>\n",
       "      <td>False</td>\n",
       "      <td>False</td>\n",
       "      <td>False</td>\n",
       "      <td>False</td>\n",
       "      <td>False</td>\n",
       "    </tr>\n",
       "    <tr>\n",
       "      <th>1</th>\n",
       "      <td>False</td>\n",
       "      <td>False</td>\n",
       "      <td>False</td>\n",
       "      <td>False</td>\n",
       "      <td>False</td>\n",
       "      <td>False</td>\n",
       "      <td>False</td>\n",
       "      <td>False</td>\n",
       "      <td>False</td>\n",
       "      <td>False</td>\n",
       "      <td>...</td>\n",
       "      <td>False</td>\n",
       "      <td>False</td>\n",
       "      <td>False</td>\n",
       "      <td>False</td>\n",
       "      <td>False</td>\n",
       "      <td>False</td>\n",
       "      <td>False</td>\n",
       "      <td>False</td>\n",
       "      <td>False</td>\n",
       "      <td>False</td>\n",
       "    </tr>\n",
       "    <tr>\n",
       "      <th>2</th>\n",
       "      <td>False</td>\n",
       "      <td>False</td>\n",
       "      <td>False</td>\n",
       "      <td>False</td>\n",
       "      <td>False</td>\n",
       "      <td>False</td>\n",
       "      <td>False</td>\n",
       "      <td>False</td>\n",
       "      <td>False</td>\n",
       "      <td>False</td>\n",
       "      <td>...</td>\n",
       "      <td>False</td>\n",
       "      <td>False</td>\n",
       "      <td>False</td>\n",
       "      <td>False</td>\n",
       "      <td>False</td>\n",
       "      <td>False</td>\n",
       "      <td>False</td>\n",
       "      <td>False</td>\n",
       "      <td>False</td>\n",
       "      <td>False</td>\n",
       "    </tr>\n",
       "    <tr>\n",
       "      <th>3</th>\n",
       "      <td>False</td>\n",
       "      <td>False</td>\n",
       "      <td>False</td>\n",
       "      <td>False</td>\n",
       "      <td>False</td>\n",
       "      <td>False</td>\n",
       "      <td>False</td>\n",
       "      <td>False</td>\n",
       "      <td>False</td>\n",
       "      <td>False</td>\n",
       "      <td>...</td>\n",
       "      <td>False</td>\n",
       "      <td>False</td>\n",
       "      <td>False</td>\n",
       "      <td>False</td>\n",
       "      <td>False</td>\n",
       "      <td>False</td>\n",
       "      <td>False</td>\n",
       "      <td>False</td>\n",
       "      <td>False</td>\n",
       "      <td>False</td>\n",
       "    </tr>\n",
       "    <tr>\n",
       "      <th>4</th>\n",
       "      <td>False</td>\n",
       "      <td>False</td>\n",
       "      <td>False</td>\n",
       "      <td>False</td>\n",
       "      <td>False</td>\n",
       "      <td>False</td>\n",
       "      <td>False</td>\n",
       "      <td>False</td>\n",
       "      <td>False</td>\n",
       "      <td>False</td>\n",
       "      <td>...</td>\n",
       "      <td>False</td>\n",
       "      <td>False</td>\n",
       "      <td>False</td>\n",
       "      <td>False</td>\n",
       "      <td>False</td>\n",
       "      <td>False</td>\n",
       "      <td>False</td>\n",
       "      <td>False</td>\n",
       "      <td>False</td>\n",
       "      <td>False</td>\n",
       "    </tr>\n",
       "    <tr>\n",
       "      <th>...</th>\n",
       "      <td>...</td>\n",
       "      <td>...</td>\n",
       "      <td>...</td>\n",
       "      <td>...</td>\n",
       "      <td>...</td>\n",
       "      <td>...</td>\n",
       "      <td>...</td>\n",
       "      <td>...</td>\n",
       "      <td>...</td>\n",
       "      <td>...</td>\n",
       "      <td>...</td>\n",
       "      <td>...</td>\n",
       "      <td>...</td>\n",
       "      <td>...</td>\n",
       "      <td>...</td>\n",
       "      <td>...</td>\n",
       "      <td>...</td>\n",
       "      <td>...</td>\n",
       "      <td>...</td>\n",
       "      <td>...</td>\n",
       "      <td>...</td>\n",
       "    </tr>\n",
       "    <tr>\n",
       "      <th>200</th>\n",
       "      <td>False</td>\n",
       "      <td>False</td>\n",
       "      <td>False</td>\n",
       "      <td>False</td>\n",
       "      <td>False</td>\n",
       "      <td>False</td>\n",
       "      <td>False</td>\n",
       "      <td>False</td>\n",
       "      <td>False</td>\n",
       "      <td>False</td>\n",
       "      <td>...</td>\n",
       "      <td>False</td>\n",
       "      <td>False</td>\n",
       "      <td>False</td>\n",
       "      <td>False</td>\n",
       "      <td>False</td>\n",
       "      <td>False</td>\n",
       "      <td>False</td>\n",
       "      <td>False</td>\n",
       "      <td>False</td>\n",
       "      <td>False</td>\n",
       "    </tr>\n",
       "    <tr>\n",
       "      <th>201</th>\n",
       "      <td>False</td>\n",
       "      <td>False</td>\n",
       "      <td>False</td>\n",
       "      <td>False</td>\n",
       "      <td>False</td>\n",
       "      <td>False</td>\n",
       "      <td>False</td>\n",
       "      <td>False</td>\n",
       "      <td>False</td>\n",
       "      <td>False</td>\n",
       "      <td>...</td>\n",
       "      <td>False</td>\n",
       "      <td>False</td>\n",
       "      <td>False</td>\n",
       "      <td>False</td>\n",
       "      <td>False</td>\n",
       "      <td>False</td>\n",
       "      <td>False</td>\n",
       "      <td>False</td>\n",
       "      <td>False</td>\n",
       "      <td>False</td>\n",
       "    </tr>\n",
       "    <tr>\n",
       "      <th>202</th>\n",
       "      <td>False</td>\n",
       "      <td>False</td>\n",
       "      <td>False</td>\n",
       "      <td>False</td>\n",
       "      <td>False</td>\n",
       "      <td>False</td>\n",
       "      <td>False</td>\n",
       "      <td>False</td>\n",
       "      <td>False</td>\n",
       "      <td>False</td>\n",
       "      <td>...</td>\n",
       "      <td>False</td>\n",
       "      <td>False</td>\n",
       "      <td>False</td>\n",
       "      <td>False</td>\n",
       "      <td>False</td>\n",
       "      <td>False</td>\n",
       "      <td>False</td>\n",
       "      <td>False</td>\n",
       "      <td>False</td>\n",
       "      <td>False</td>\n",
       "    </tr>\n",
       "    <tr>\n",
       "      <th>203</th>\n",
       "      <td>False</td>\n",
       "      <td>False</td>\n",
       "      <td>False</td>\n",
       "      <td>False</td>\n",
       "      <td>False</td>\n",
       "      <td>False</td>\n",
       "      <td>False</td>\n",
       "      <td>False</td>\n",
       "      <td>False</td>\n",
       "      <td>False</td>\n",
       "      <td>...</td>\n",
       "      <td>False</td>\n",
       "      <td>False</td>\n",
       "      <td>False</td>\n",
       "      <td>False</td>\n",
       "      <td>False</td>\n",
       "      <td>False</td>\n",
       "      <td>False</td>\n",
       "      <td>False</td>\n",
       "      <td>False</td>\n",
       "      <td>False</td>\n",
       "    </tr>\n",
       "    <tr>\n",
       "      <th>204</th>\n",
       "      <td>False</td>\n",
       "      <td>False</td>\n",
       "      <td>False</td>\n",
       "      <td>False</td>\n",
       "      <td>False</td>\n",
       "      <td>False</td>\n",
       "      <td>False</td>\n",
       "      <td>False</td>\n",
       "      <td>False</td>\n",
       "      <td>False</td>\n",
       "      <td>...</td>\n",
       "      <td>False</td>\n",
       "      <td>False</td>\n",
       "      <td>False</td>\n",
       "      <td>False</td>\n",
       "      <td>False</td>\n",
       "      <td>False</td>\n",
       "      <td>False</td>\n",
       "      <td>False</td>\n",
       "      <td>False</td>\n",
       "      <td>False</td>\n",
       "    </tr>\n",
       "  </tbody>\n",
       "</table>\n",
       "<p>205 rows × 26 columns</p>\n",
       "</div>"
      ],
      "text/plain": [
       "     car_ID  symboling  CarName  fueltype  aspiration  doornumber  carbody  \\\n",
       "0     False      False    False     False       False       False    False   \n",
       "1     False      False    False     False       False       False    False   \n",
       "2     False      False    False     False       False       False    False   \n",
       "3     False      False    False     False       False       False    False   \n",
       "4     False      False    False     False       False       False    False   \n",
       "..      ...        ...      ...       ...         ...         ...      ...   \n",
       "200   False      False    False     False       False       False    False   \n",
       "201   False      False    False     False       False       False    False   \n",
       "202   False      False    False     False       False       False    False   \n",
       "203   False      False    False     False       False       False    False   \n",
       "204   False      False    False     False       False       False    False   \n",
       "\n",
       "     drivewheel  enginelocation  wheelbase  ...  enginesize  fuelsystem  \\\n",
       "0         False           False      False  ...       False       False   \n",
       "1         False           False      False  ...       False       False   \n",
       "2         False           False      False  ...       False       False   \n",
       "3         False           False      False  ...       False       False   \n",
       "4         False           False      False  ...       False       False   \n",
       "..          ...             ...        ...  ...         ...         ...   \n",
       "200       False           False      False  ...       False       False   \n",
       "201       False           False      False  ...       False       False   \n",
       "202       False           False      False  ...       False       False   \n",
       "203       False           False      False  ...       False       False   \n",
       "204       False           False      False  ...       False       False   \n",
       "\n",
       "     boreratio  stroke  compressionratio  horsepower  peakrpm  citympg  \\\n",
       "0        False   False             False       False    False    False   \n",
       "1        False   False             False       False    False    False   \n",
       "2        False   False             False       False    False    False   \n",
       "3        False   False             False       False    False    False   \n",
       "4        False   False             False       False    False    False   \n",
       "..         ...     ...               ...         ...      ...      ...   \n",
       "200      False   False             False       False    False    False   \n",
       "201      False   False             False       False    False    False   \n",
       "202      False   False             False       False    False    False   \n",
       "203      False   False             False       False    False    False   \n",
       "204      False   False             False       False    False    False   \n",
       "\n",
       "     highwaympg  price  \n",
       "0         False  False  \n",
       "1         False  False  \n",
       "2         False  False  \n",
       "3         False  False  \n",
       "4         False  False  \n",
       "..          ...    ...  \n",
       "200       False  False  \n",
       "201       False  False  \n",
       "202       False  False  \n",
       "203       False  False  \n",
       "204       False  False  \n",
       "\n",
       "[205 rows x 26 columns]"
      ]
     },
     "execution_count": 19,
     "metadata": {},
     "output_type": "execute_result"
    }
   ],
   "source": [
    "# To check if the data has null values\n",
    "df.isnull()"
   ]
  },
  {
   "cell_type": "code",
   "execution_count": 22,
   "id": "c76fef34",
   "metadata": {},
   "outputs": [
    {
     "data": {
      "text/plain": [
       "car_ID              0.0\n",
       "symboling           0.0\n",
       "CarName             0.0\n",
       "fueltype            0.0\n",
       "aspiration          0.0\n",
       "doornumber          0.0\n",
       "carbody             0.0\n",
       "drivewheel          0.0\n",
       "enginelocation      0.0\n",
       "wheelbase           0.0\n",
       "carlength           0.0\n",
       "carwidth            0.0\n",
       "carheight           0.0\n",
       "curbweight          0.0\n",
       "enginetype          0.0\n",
       "cylindernumber      0.0\n",
       "enginesize          0.0\n",
       "fuelsystem          0.0\n",
       "boreratio           0.0\n",
       "stroke              0.0\n",
       "compressionratio    0.0\n",
       "horsepower          0.0\n",
       "peakrpm             0.0\n",
       "citympg             0.0\n",
       "highwaympg          0.0\n",
       "price               0.0\n",
       "dtype: float64"
      ]
     },
     "execution_count": 22,
     "metadata": {},
     "output_type": "execute_result"
    }
   ],
   "source": [
    "# To get the percentage of missing values in each column\n",
    "df.isnull().sum()*100/df.shape[0]\n",
    "# There are no NULL values; hence data is clean"
   ]
  },
  {
   "cell_type": "code",
   "execution_count": 24,
   "id": "e64388cc",
   "metadata": {},
   "outputs": [],
   "source": [
    "# Exploratory Data Analysis (EDA)\n",
    "# Univariate analysis\n",
    "# Target variable: Price"
   ]
  },
  {
   "cell_type": "code",
   "execution_count": 25,
   "id": "f66dff16",
   "metadata": {},
   "outputs": [
    {
     "data": {
      "text/plain": [
       "count      205.000000\n",
       "mean     13276.710571\n",
       "std       7988.852332\n",
       "min       5118.000000\n",
       "25%       7788.000000\n",
       "50%      10295.000000\n",
       "75%      16503.000000\n",
       "max      45400.000000\n",
       "Name: price, dtype: float64"
      ]
     },
     "execution_count": 25,
     "metadata": {},
     "output_type": "execute_result"
    }
   ],
   "source": [
    "# It returns the description of price\n",
    "df.price.describe()"
   ]
  },
  {
   "cell_type": "code",
   "execution_count": 30,
   "id": "f8084a18",
   "metadata": {},
   "outputs": [
    {
     "name": "stderr",
     "output_type": "stream",
     "text": [
      "C:\\Users\\Aastha\\anaconda3\\lib\\site-packages\\seaborn\\distributions.py:2619: FutureWarning: `distplot` is a deprecated function and will be removed in a future version. Please adapt your code to use either `displot` (a figure-level function with similar flexibility) or `histplot` (an axes-level function for histograms).\n",
      "  warnings.warn(msg, FutureWarning)\n"
     ]
    },
    {
     "data": {
      "text/plain": [
       "<seaborn.axisgrid.FacetGrid at 0x2afe8fec070>"
      ]
     },
     "execution_count": 30,
     "metadata": {},
     "output_type": "execute_result"
    },
    {
     "data": {
      "image/png": "[encoded data removed]",
      "text/plain": [
       "<Figure size 432x288 with 1 Axes>"
      ]
     },
     "metadata": {
      "needs_background": "light"
     },
     "output_type": "display_data"
    },
    {
     "data": {
      "image/png": "[encoded data removed]",
      "text/plain": [
       "<Figure size 360x360 with 1 Axes>"
      ]
     },
     "metadata": {
      "needs_background": "light"
     },
     "output_type": "display_data"
    }
   ],
   "source": [
    "sb.distplot(df['price'])\n",
    "sb.displot(df['price'])"
   ]
  },
  {
   "cell_type": "code",
   "execution_count": 31,
   "id": "9a8de101",
   "metadata": {},
   "outputs": [],
   "source": [
    "# Conclusion\n",
    "# Mean and median of price are significantly different.\n",
    "# Large standard deviation indicates that there is considerable variance in the price of the automobiles.\n",
    "# Price values are right-skewed, most cars are priced at the lower end of the price range."
   ]
  },
  {
   "cell_type": "code",
   "execution_count": null,
   "id": "09477b86",
   "metadata": {},
   "outputs": [],
   "source": [
    "# car_ID: Unique ID for each observation\n",
    "# symboling : It is assigned insurance risk rating\n",
    "#             A value of +3 indicates that the automobile is risky,\n",
    "#             and a value of -3 is probably safe.(Categorical)"
   ]
  },
  {
   "cell_type": "code",
   "execution_count": 53,
   "id": "7e3ad9c4",
   "metadata": {},
   "outputs": [
    {
     "data": {
      "image/png": "[encoded data removed]",
      "text/plain": [
       "<Figure size 432x288 with 1 Axes>"
      ]
     },
     "metadata": {
      "needs_background": "light"
     },
     "output_type": "display_data"
    },
    {
     "data": {
      "text/plain": [
       "<Figure size 432x288 with 0 Axes>"
      ]
     },
     "metadata": {},
     "output_type": "display_data"
    }
   ],
   "source": [
    "# To see the count of automobile and percent share of each category\n",
    "plot1 = sb.countplot(x=df.symboling)\n",
    "plot1.set(xlabel = 'Symbol', ylabel = 'Count of Cars')\n",
    "mp.show()\n",
    "mp.tight_layout()"
   ]
  },
  {
   "cell_type": "code",
   "execution_count": 58,
   "id": "33b1e0ef",
   "metadata": {},
   "outputs": [
    {
     "data": {
      "image/png": "[encoded data removed]",
      "text/plain": [
       "<Figure size 396x756 with 1 Axes>"
      ]
     },
     "metadata": {},
     "output_type": "display_data"
    },
    {
     "data": {
      "text/plain": [
       "<Figure size 432x288 with 0 Axes>"
      ]
     },
     "metadata": {},
     "output_type": "display_data"
    }
   ],
   "source": [
    "# It will return a series containing counts of unique values; the resulting object will be in descending order.\n",
    "df_sym = pd.DataFrame(df['symboling'].value_counts())\n",
    "\n",
    "# To plot a pie-cahrt\n",
    "df_sym.plot.pie(subplots = True, labels = df_sym.index.values, autopct='%1.1f%%', figsize = (5.5, 10.5))\n",
    "\n",
    "# Unsquish the pie using matplotlib.pyplot.\n",
    "mp.gca().set_aspect('equal')\n",
    "mp.show()\n",
    "mp.tight_layout()\n"
   ]
  },
  {
   "cell_type": "code",
   "execution_count": 62,
   "id": "5c55ab74",
   "metadata": {},
   "outputs": [
    {
     "data": {
      "image/png": "[encoded data removed]",
      "text/plain": [
       "<Figure size 432x288 with 1 Axes>"
      ]
     },
     "metadata": {
      "needs_background": "light"
     },
     "output_type": "display_data"
    }
   ],
   "source": [
    "# To see average price of car in each symbol category\n",
    "plot1 = df[['symboling','price']].groupby(\"symboling\").mean().plot(kind = 'bar', legend = False)\n",
    "plot1.set(xlabel = 'Symbol', ylabel = 'Average Price in Dollars')\n",
    "xticks(rotation = 0)\n",
    "mp.show()"
   ]
  },
  {
   "cell_type": "code",
   "execution_count": null,
   "id": "2212c352",
   "metadata": {},
   "outputs": [],
   "source": [
    "# Conclusion\n",
    "# The average price of car in dollars is lower for the symbol category 0, 1, and 2."
   ]
  },
  {
   "cell_type": "code",
   "execution_count": 63,
   "id": "323ebae1",
   "metadata": {},
   "outputs": [
    {
     "data": {
      "text/plain": [
       "array(['alfa-romero giulia', 'alfa-romero stelvio',\n",
       "       'alfa-romero Quadrifoglio', 'audi 100 ls', 'audi 100ls',\n",
       "       'audi fox', 'audi 100ls', 'audi 5000', 'audi 4000',\n",
       "       'audi 5000s (diesel)'], dtype=object)"
      ]
     },
     "execution_count": 63,
     "metadata": {},
     "output_type": "execute_result"
    }
   ],
   "source": [
    "# Analysis on Car Name\n",
    "df.CarName.values[0:10]"
   ]
  },
  {
   "cell_type": "code",
   "execution_count": 67,
   "id": "ab24ac50",
   "metadata": {},
   "outputs": [
    {
     "data": {
      "text/plain": [
       "0    ALFA-ROMERO\n",
       "1    ALFA-ROMERO\n",
       "2    ALFA-ROMERO\n",
       "3           AUDI\n",
       "4           AUDI\n",
       "Name: brand, dtype: object"
      ]
     },
     "execution_count": 67,
     "metadata": {},
     "output_type": "execute_result"
    }
   ],
   "source": [
    "# It can be observed that car name is comprised of two parts; car company and car model. \n",
    "# Now we will split car company to a new column\n",
    "df['brand'] = df.CarName.str.split(' ').str.get(0).str.upper()\n",
    "df.brand[0:5]"
   ]
  },
  {
   "cell_type": "code",
   "execution_count": 89,
   "id": "e4432384",
   "metadata": {},
   "outputs": [
    {
     "data": {
      "text/plain": [
       "22"
      ]
     },
     "execution_count": 89,
     "metadata": {},
     "output_type": "execute_result"
    }
   ],
   "source": [
    "# To get the length of brands\n",
    "len(set(df.brand.values))"
   ]
  },
  {
   "cell_type": "code",
   "execution_count": 80,
   "id": "1eb2c7c7",
   "metadata": {},
   "outputs": [
    {
     "data": {
      "image/png": "[encoded data removed]",
      "text/plain": [
       "<Figure size 1080x360 with 1 Axes>"
      ]
     },
     "metadata": {
      "needs_background": "light"
     },
     "output_type": "display_data"
    },
    {
     "data": {
      "text/plain": [
       "<Figure size 432x288 with 0 Axes>"
      ]
     },
     "metadata": {},
     "output_type": "display_data"
    }
   ],
   "source": [
    "# To see companies and their model numbers\n",
    "plot2 = mp.subplots(figsize = (15, 5))\n",
    "plot1 = sb.countplot( x = df['brand'], order = pd.value_counts(df['brand']).index)\n",
    "xticks(rotation = 90)\n",
    "mp.show()\n",
    "mp.tight_layout()"
   ]
  },
  {
   "cell_type": "code",
   "execution_count": 82,
   "id": "ee52a17c",
   "metadata": {},
   "outputs": [],
   "source": [
    "# From above plot it can be seen that few brand names are not spelled correctly, for example\n",
    "# VOLKSWAGON as VOLKSWAGEN, VW, VOKSWAGEN\n",
    "# MAZDA as MAXDA\n",
    "# TOYOTA as TOYOUTA\n",
    "\n",
    "# Code to fix above issues:\n",
    "df['brand'] = df['brand'].replace(['VW','VOKSWAGEN', 'VOLKSWAGEN'], 'VOLKSWAGON')\n",
    "df['brand'] = df['brand'].replace(['MAXDA'], 'MAZDA')\n",
    "df['brand'] = df['brand'].replace(['PORCSHCE'], 'PORSCHE')\n",
    "df['brand'] = df['brand'].replace(['TOYOUTA'], 'TOYOTA')"
   ]
  },
  {
   "cell_type": "code",
   "execution_count": 83,
   "id": "0684dbd3",
   "metadata": {},
   "outputs": [
    {
     "data": {
      "image/png": "[encoded data removed]",
      "text/plain": [
       "<Figure size 1080x360 with 1 Axes>"
      ]
     },
     "metadata": {
      "needs_background": "light"
     },
     "output_type": "display_data"
    },
    {
     "data": {
      "text/plain": [
       "<Figure size 432x288 with 0 Axes>"
      ]
     },
     "metadata": {},
     "output_type": "display_data"
    }
   ],
   "source": [
    "# To see updated companies and their model numbers\n",
    "plot2 = mp.subplots(figsize = (15, 5))\n",
    "plot1 = sb.countplot( x = df['brand'], order = pd.value_counts(df['brand']).index)\n",
    "xticks(rotation = 90)\n",
    "mp.show()\n",
    "mp.tight_layout()"
   ]
  },
  {
   "cell_type": "code",
   "execution_count": 92,
   "id": "71e81318",
   "metadata": {},
   "outputs": [
    {
     "data": {
      "text/plain": [
       "count        205\n",
       "unique        22\n",
       "top       TOYOTA\n",
       "freq          32\n",
       "Name: brand, dtype: object"
      ]
     },
     "execution_count": 92,
     "metadata": {},
     "output_type": "execute_result"
    }
   ],
   "source": [
    "# To describe brand size\n",
    "df.brand.describe()"
   ]
  },
  {
   "cell_type": "code",
   "execution_count": null,
   "id": "878e921a",
   "metadata": {},
   "outputs": [],
   "source": [
    "# Conclusion\n",
    "\n",
    "# TOYOTA, a Japanese company has the most number of models."
   ]
  },
  {
   "cell_type": "code",
   "execution_count": null,
   "id": "714d713c",
   "metadata": {},
   "outputs": [],
   "source": [
    "# To check on average car price of each company"
   ]
  },
  {
   "cell_type": "code",
   "execution_count": 111,
   "id": "b0cf59a7",
   "metadata": {},
   "outputs": [
    {
     "data": {
      "image/png": "[encoded data removed]",
      "text/plain": [
       "<Figure size 1080x216 with 1 Axes>"
      ]
     },
     "metadata": {
      "needs_background": "light"
     },
     "output_type": "display_data"
    }
   ],
   "source": [
    "df_car_price = df[['brand','price']].groupby('brand', as_index = False).mean()\n",
    "df_car_prices = df_car_price.rename(columns={'price':'brand_avg_price'})\n",
    "\n",
    "plot1 = df_car_prices.plot(x = 'brand', kind = 'bar', legend = False, sort_columns = True, figsize = (15,3))\n",
    "plot1.set_xlabel('Brand')\n",
    "plot1.set_ylabel('Avg Price in Dollars')\n",
    "xticks(rotation = 90)\n",
    "mp.show()"
   ]
  },
  {
   "cell_type": "code",
   "execution_count": 119,
   "id": "76877562",
   "metadata": {},
   "outputs": [
    {
     "data": {
      "text/html": [
       "<div>\n",
       "<style scoped>\n",
       "    .dataframe tbody tr th:only-of-type {\n",
       "        vertical-align: middle;\n",
       "    }\n",
       "\n",
       "    .dataframe tbody tr th {\n",
       "        vertical-align: top;\n",
       "    }\n",
       "\n",
       "    .dataframe thead th {\n",
       "        text-align: right;\n",
       "    }\n",
       "</style>\n",
       "<table border=\"1\" class=\"dataframe\">\n",
       "  <thead>\n",
       "    <tr style=\"text-align: right;\">\n",
       "      <th></th>\n",
       "      <th>car_ID</th>\n",
       "      <th>symboling</th>\n",
       "      <th>CarName</th>\n",
       "      <th>fueltype</th>\n",
       "      <th>aspiration</th>\n",
       "      <th>doornumber</th>\n",
       "      <th>carbody</th>\n",
       "      <th>drivewheel</th>\n",
       "      <th>enginelocation</th>\n",
       "      <th>wheelbase</th>\n",
       "      <th>...</th>\n",
       "      <th>citympg</th>\n",
       "      <th>highwaympg</th>\n",
       "      <th>price</th>\n",
       "      <th>brand</th>\n",
       "      <th>brand_avg_price_x</th>\n",
       "      <th>brand_avg_price_y</th>\n",
       "      <th>brand_avg_price_x</th>\n",
       "      <th>brand category</th>\n",
       "      <th>brand_avg_price_y</th>\n",
       "      <th>brand_avg_price</th>\n",
       "    </tr>\n",
       "  </thead>\n",
       "  <tbody>\n",
       "    <tr>\n",
       "      <th>0</th>\n",
       "      <td>1</td>\n",
       "      <td>3</td>\n",
       "      <td>alfa-romero giulia</td>\n",
       "      <td>gas</td>\n",
       "      <td>std</td>\n",
       "      <td>two</td>\n",
       "      <td>convertible</td>\n",
       "      <td>rwd</td>\n",
       "      <td>front</td>\n",
       "      <td>88.6</td>\n",
       "      <td>...</td>\n",
       "      <td>21</td>\n",
       "      <td>27</td>\n",
       "      <td>13495.0</td>\n",
       "      <td>ALFA-ROMERO</td>\n",
       "      <td>15498.333333</td>\n",
       "      <td>15498.333333</td>\n",
       "      <td>15498.333333</td>\n",
       "      <td>Mid Range</td>\n",
       "      <td>15498.333333</td>\n",
       "      <td>15498.333333</td>\n",
       "    </tr>\n",
       "    <tr>\n",
       "      <th>1</th>\n",
       "      <td>2</td>\n",
       "      <td>3</td>\n",
       "      <td>alfa-romero stelvio</td>\n",
       "      <td>gas</td>\n",
       "      <td>std</td>\n",
       "      <td>two</td>\n",
       "      <td>convertible</td>\n",
       "      <td>rwd</td>\n",
       "      <td>front</td>\n",
       "      <td>88.6</td>\n",
       "      <td>...</td>\n",
       "      <td>21</td>\n",
       "      <td>27</td>\n",
       "      <td>16500.0</td>\n",
       "      <td>ALFA-ROMERO</td>\n",
       "      <td>15498.333333</td>\n",
       "      <td>15498.333333</td>\n",
       "      <td>15498.333333</td>\n",
       "      <td>Mid Range</td>\n",
       "      <td>15498.333333</td>\n",
       "      <td>15498.333333</td>\n",
       "    </tr>\n",
       "    <tr>\n",
       "      <th>2</th>\n",
       "      <td>3</td>\n",
       "      <td>1</td>\n",
       "      <td>alfa-romero Quadrifoglio</td>\n",
       "      <td>gas</td>\n",
       "      <td>std</td>\n",
       "      <td>two</td>\n",
       "      <td>hatchback</td>\n",
       "      <td>rwd</td>\n",
       "      <td>front</td>\n",
       "      <td>94.5</td>\n",
       "      <td>...</td>\n",
       "      <td>19</td>\n",
       "      <td>26</td>\n",
       "      <td>16500.0</td>\n",
       "      <td>ALFA-ROMERO</td>\n",
       "      <td>15498.333333</td>\n",
       "      <td>15498.333333</td>\n",
       "      <td>15498.333333</td>\n",
       "      <td>Mid Range</td>\n",
       "      <td>15498.333333</td>\n",
       "      <td>15498.333333</td>\n",
       "    </tr>\n",
       "    <tr>\n",
       "      <th>3</th>\n",
       "      <td>4</td>\n",
       "      <td>2</td>\n",
       "      <td>audi 100 ls</td>\n",
       "      <td>gas</td>\n",
       "      <td>std</td>\n",
       "      <td>four</td>\n",
       "      <td>sedan</td>\n",
       "      <td>fwd</td>\n",
       "      <td>front</td>\n",
       "      <td>99.8</td>\n",
       "      <td>...</td>\n",
       "      <td>24</td>\n",
       "      <td>30</td>\n",
       "      <td>13950.0</td>\n",
       "      <td>AUDI</td>\n",
       "      <td>17859.166714</td>\n",
       "      <td>17859.166714</td>\n",
       "      <td>17859.166714</td>\n",
       "      <td>Mid Range</td>\n",
       "      <td>17859.166714</td>\n",
       "      <td>17859.166714</td>\n",
       "    </tr>\n",
       "    <tr>\n",
       "      <th>4</th>\n",
       "      <td>5</td>\n",
       "      <td>2</td>\n",
       "      <td>audi 100ls</td>\n",
       "      <td>gas</td>\n",
       "      <td>std</td>\n",
       "      <td>four</td>\n",
       "      <td>sedan</td>\n",
       "      <td>4wd</td>\n",
       "      <td>front</td>\n",
       "      <td>99.4</td>\n",
       "      <td>...</td>\n",
       "      <td>18</td>\n",
       "      <td>22</td>\n",
       "      <td>17450.0</td>\n",
       "      <td>AUDI</td>\n",
       "      <td>17859.166714</td>\n",
       "      <td>17859.166714</td>\n",
       "      <td>17859.166714</td>\n",
       "      <td>Mid Range</td>\n",
       "      <td>17859.166714</td>\n",
       "      <td>17859.166714</td>\n",
       "    </tr>\n",
       "  </tbody>\n",
       "</table>\n",
       "<p>5 rows × 33 columns</p>\n",
       "</div>"
      ],
      "text/plain": [
       "   car_ID  symboling                   CarName fueltype aspiration doornumber  \\\n",
       "0       1          3        alfa-romero giulia      gas        std        two   \n",
       "1       2          3       alfa-romero stelvio      gas        std        two   \n",
       "2       3          1  alfa-romero Quadrifoglio      gas        std        two   \n",
       "3       4          2               audi 100 ls      gas        std       four   \n",
       "4       5          2                audi 100ls      gas        std       four   \n",
       "\n",
       "       carbody drivewheel enginelocation  wheelbase  ...  citympg  highwaympg  \\\n",
       "0  convertible        rwd          front       88.6  ...       21          27   \n",
       "1  convertible        rwd          front       88.6  ...       21          27   \n",
       "2    hatchback        rwd          front       94.5  ...       19          26   \n",
       "3        sedan        fwd          front       99.8  ...       24          30   \n",
       "4        sedan        4wd          front       99.4  ...       18          22   \n",
       "\n",
       "     price        brand  brand_avg_price_x  brand_avg_price_y  \\\n",
       "0  13495.0  ALFA-ROMERO       15498.333333       15498.333333   \n",
       "1  16500.0  ALFA-ROMERO       15498.333333       15498.333333   \n",
       "2  16500.0  ALFA-ROMERO       15498.333333       15498.333333   \n",
       "3  13950.0         AUDI       17859.166714       17859.166714   \n",
       "4  17450.0         AUDI       17859.166714       17859.166714   \n",
       "\n",
       "   brand_avg_price_x brand category  brand_avg_price_y  brand_avg_price  \n",
       "0       15498.333333      Mid Range       15498.333333     15498.333333  \n",
       "1       15498.333333      Mid Range       15498.333333     15498.333333  \n",
       "2       15498.333333      Mid Range       15498.333333     15498.333333  \n",
       "3       17859.166714      Mid Range       17859.166714     17859.166714  \n",
       "4       17859.166714      Mid Range       17859.166714     17859.166714  \n",
       "\n",
       "[5 rows x 33 columns]"
      ]
     },
     "execution_count": 119,
     "metadata": {},
     "output_type": "execute_result"
    }
   ],
   "source": [
    "df = df.merge(df_car_prices, on = 'brand')\n",
    "df.head()"
   ]
  },
  {
   "cell_type": "code",
   "execution_count": 116,
   "id": "56416826",
   "metadata": {},
   "outputs": [],
   "source": [
    "df['brand category'] = df['brand_avg_price'].apply(lambda x : \"Budget\" if x < 10000 \n",
    "                                                                       else\n",
    "                                                                       (\"Mid Range\" if 10000 <= x < 20000 else \" Luxury\"))"
   ]
  },
  {
   "cell_type": "code",
   "execution_count": 117,
   "id": "2cae836e",
   "metadata": {},
   "outputs": [
    {
     "data": {
      "text/html": [
       "<div>\n",
       "<style scoped>\n",
       "    .dataframe tbody tr th:only-of-type {\n",
       "        vertical-align: middle;\n",
       "    }\n",
       "\n",
       "    .dataframe tbody tr th {\n",
       "        vertical-align: top;\n",
       "    }\n",
       "\n",
       "    .dataframe thead th {\n",
       "        text-align: right;\n",
       "    }\n",
       "</style>\n",
       "<table border=\"1\" class=\"dataframe\">\n",
       "  <thead>\n",
       "    <tr style=\"text-align: right;\">\n",
       "      <th></th>\n",
       "      <th>car_ID</th>\n",
       "      <th>symboling</th>\n",
       "      <th>CarName</th>\n",
       "      <th>fueltype</th>\n",
       "      <th>aspiration</th>\n",
       "      <th>doornumber</th>\n",
       "      <th>carbody</th>\n",
       "      <th>drivewheel</th>\n",
       "      <th>enginelocation</th>\n",
       "      <th>wheelbase</th>\n",
       "      <th>...</th>\n",
       "      <th>horsepower</th>\n",
       "      <th>peakrpm</th>\n",
       "      <th>citympg</th>\n",
       "      <th>highwaympg</th>\n",
       "      <th>price</th>\n",
       "      <th>brand</th>\n",
       "      <th>brand_avg_price_x</th>\n",
       "      <th>brand_avg_price_y</th>\n",
       "      <th>brand_avg_price</th>\n",
       "      <th>brand category</th>\n",
       "    </tr>\n",
       "  </thead>\n",
       "  <tbody>\n",
       "    <tr>\n",
       "      <th>0</th>\n",
       "      <td>1</td>\n",
       "      <td>3</td>\n",
       "      <td>alfa-romero giulia</td>\n",
       "      <td>gas</td>\n",
       "      <td>std</td>\n",
       "      <td>two</td>\n",
       "      <td>convertible</td>\n",
       "      <td>rwd</td>\n",
       "      <td>front</td>\n",
       "      <td>88.6</td>\n",
       "      <td>...</td>\n",
       "      <td>111</td>\n",
       "      <td>5000</td>\n",
       "      <td>21</td>\n",
       "      <td>27</td>\n",
       "      <td>13495.0</td>\n",
       "      <td>ALFA-ROMERO</td>\n",
       "      <td>15498.333333</td>\n",
       "      <td>15498.333333</td>\n",
       "      <td>15498.333333</td>\n",
       "      <td>Mid Range</td>\n",
       "    </tr>\n",
       "    <tr>\n",
       "      <th>1</th>\n",
       "      <td>2</td>\n",
       "      <td>3</td>\n",
       "      <td>alfa-romero stelvio</td>\n",
       "      <td>gas</td>\n",
       "      <td>std</td>\n",
       "      <td>two</td>\n",
       "      <td>convertible</td>\n",
       "      <td>rwd</td>\n",
       "      <td>front</td>\n",
       "      <td>88.6</td>\n",
       "      <td>...</td>\n",
       "      <td>111</td>\n",
       "      <td>5000</td>\n",
       "      <td>21</td>\n",
       "      <td>27</td>\n",
       "      <td>16500.0</td>\n",
       "      <td>ALFA-ROMERO</td>\n",
       "      <td>15498.333333</td>\n",
       "      <td>15498.333333</td>\n",
       "      <td>15498.333333</td>\n",
       "      <td>Mid Range</td>\n",
       "    </tr>\n",
       "    <tr>\n",
       "      <th>2</th>\n",
       "      <td>3</td>\n",
       "      <td>1</td>\n",
       "      <td>alfa-romero Quadrifoglio</td>\n",
       "      <td>gas</td>\n",
       "      <td>std</td>\n",
       "      <td>two</td>\n",
       "      <td>hatchback</td>\n",
       "      <td>rwd</td>\n",
       "      <td>front</td>\n",
       "      <td>94.5</td>\n",
       "      <td>...</td>\n",
       "      <td>154</td>\n",
       "      <td>5000</td>\n",
       "      <td>19</td>\n",
       "      <td>26</td>\n",
       "      <td>16500.0</td>\n",
       "      <td>ALFA-ROMERO</td>\n",
       "      <td>15498.333333</td>\n",
       "      <td>15498.333333</td>\n",
       "      <td>15498.333333</td>\n",
       "      <td>Mid Range</td>\n",
       "    </tr>\n",
       "    <tr>\n",
       "      <th>3</th>\n",
       "      <td>4</td>\n",
       "      <td>2</td>\n",
       "      <td>audi 100 ls</td>\n",
       "      <td>gas</td>\n",
       "      <td>std</td>\n",
       "      <td>four</td>\n",
       "      <td>sedan</td>\n",
       "      <td>fwd</td>\n",
       "      <td>front</td>\n",
       "      <td>99.8</td>\n",
       "      <td>...</td>\n",
       "      <td>102</td>\n",
       "      <td>5500</td>\n",
       "      <td>24</td>\n",
       "      <td>30</td>\n",
       "      <td>13950.0</td>\n",
       "      <td>AUDI</td>\n",
       "      <td>17859.166714</td>\n",
       "      <td>17859.166714</td>\n",
       "      <td>17859.166714</td>\n",
       "      <td>Mid Range</td>\n",
       "    </tr>\n",
       "    <tr>\n",
       "      <th>4</th>\n",
       "      <td>5</td>\n",
       "      <td>2</td>\n",
       "      <td>audi 100ls</td>\n",
       "      <td>gas</td>\n",
       "      <td>std</td>\n",
       "      <td>four</td>\n",
       "      <td>sedan</td>\n",
       "      <td>4wd</td>\n",
       "      <td>front</td>\n",
       "      <td>99.4</td>\n",
       "      <td>...</td>\n",
       "      <td>115</td>\n",
       "      <td>5500</td>\n",
       "      <td>18</td>\n",
       "      <td>22</td>\n",
       "      <td>17450.0</td>\n",
       "      <td>AUDI</td>\n",
       "      <td>17859.166714</td>\n",
       "      <td>17859.166714</td>\n",
       "      <td>17859.166714</td>\n",
       "      <td>Mid Range</td>\n",
       "    </tr>\n",
       "  </tbody>\n",
       "</table>\n",
       "<p>5 rows × 31 columns</p>\n",
       "</div>"
      ],
      "text/plain": [
       "   car_ID  symboling                   CarName fueltype aspiration doornumber  \\\n",
       "0       1          3        alfa-romero giulia      gas        std        two   \n",
       "1       2          3       alfa-romero stelvio      gas        std        two   \n",
       "2       3          1  alfa-romero Quadrifoglio      gas        std        two   \n",
       "3       4          2               audi 100 ls      gas        std       four   \n",
       "4       5          2                audi 100ls      gas        std       four   \n",
       "\n",
       "       carbody drivewheel enginelocation  wheelbase  ...  horsepower  peakrpm  \\\n",
       "0  convertible        rwd          front       88.6  ...         111     5000   \n",
       "1  convertible        rwd          front       88.6  ...         111     5000   \n",
       "2    hatchback        rwd          front       94.5  ...         154     5000   \n",
       "3        sedan        fwd          front       99.8  ...         102     5500   \n",
       "4        sedan        4wd          front       99.4  ...         115     5500   \n",
       "\n",
       "   citympg  highwaympg    price        brand  brand_avg_price_x  \\\n",
       "0       21          27  13495.0  ALFA-ROMERO       15498.333333   \n",
       "1       21          27  16500.0  ALFA-ROMERO       15498.333333   \n",
       "2       19          26  16500.0  ALFA-ROMERO       15498.333333   \n",
       "3       24          30  13950.0         AUDI       17859.166714   \n",
       "4       18          22  17450.0         AUDI       17859.166714   \n",
       "\n",
       "  brand_avg_price_y  brand_avg_price  brand category  \n",
       "0      15498.333333     15498.333333       Mid Range  \n",
       "1      15498.333333     15498.333333       Mid Range  \n",
       "2      15498.333333     15498.333333       Mid Range  \n",
       "3      17859.166714     17859.166714       Mid Range  \n",
       "4      17859.166714     17859.166714       Mid Range  \n",
       "\n",
       "[5 rows x 31 columns]"
      ]
     },
     "execution_count": 117,
     "metadata": {},
     "output_type": "execute_result"
    }
   ],
   "source": [
    "df.head()"
   ]
  },
  {
   "cell_type": "code",
   "execution_count": 121,
   "id": "bed49eb8",
   "metadata": {},
   "outputs": [],
   "source": [
    "# Conclusions\n",
    "\n",
    "# TOYOTA, has highest number ofmodels in the market.\n",
    "# Brands can be categorised as Budget, Mid Range, and Luxury depending on their avergae price."
   ]
  },
  {
   "cell_type": "code",
   "execution_count": 126,
   "id": "9abf0e15",
   "metadata": {},
   "outputs": [
    {
     "data": {
      "text/plain": [
       "0         gas\n",
       "1         gas\n",
       "2         gas\n",
       "3         gas\n",
       "4         gas\n",
       "        ...  \n",
       "200       gas\n",
       "201       gas\n",
       "202       gas\n",
       "203    diesel\n",
       "204       gas\n",
       "Name: fueltype, Length: 205, dtype: object"
      ]
     },
     "execution_count": 126,
     "metadata": {},
     "output_type": "execute_result"
    }
   ],
   "source": [
    "# To see how price varies with Fuel type.\n",
    "df['fueltype']"
   ]
  },
  {
   "cell_type": "code",
   "execution_count": 132,
   "id": "062d92d5",
   "metadata": {},
   "outputs": [],
   "source": [
    "df_fuel_avg_price = df[['fueltype','price']].groupby('fueltype', as_index = False).mean().rename(columns = {'price':'fuel_avg_price'})"
   ]
  },
  {
   "cell_type": "code",
   "execution_count": 138,
   "id": "2901d56b",
   "metadata": {},
   "outputs": [
    {
     "data": {
      "image/png": "[encoded data removed]",
      "text/plain": [
       "<Figure size 432x288 with 1 Axes>"
      ]
     },
     "metadata": {
      "needs_background": "light"
     },
     "output_type": "display_data"
    }
   ],
   "source": [
    "plot1 = df_fuel_avg_price.plot(x = 'fueltype', kind = 'bar', legend = False, sort_columns = True)\n",
    "plot1.set_xlabel('Fuel Type')\n",
    "plot1.set_ylabel('Avg Price in Dollars')\n",
    "xticks(rotation = 0)\n",
    "mp.show()"
   ]
  },
  {
   "cell_type": "code",
   "execution_count": null,
   "id": "b02efbaf",
   "metadata": {},
   "outputs": [],
   "source": [
    "# Conclusion\n",
    "\n",
    "# Price of Diesel cars are more as compared with gas cars."
   ]
  },
  {
   "cell_type": "code",
   "execution_count": 140,
   "id": "dcaf47d4",
   "metadata": {},
   "outputs": [],
   "source": [
    "# To see the relation of aspiration engine with price\n",
    "\n",
    "df_aspr_avg_price = df[['aspiration','price']].groupby('aspiration', as_index = False).mean().rename(columns={'price':'aspr_avg_price'})\n"
   ]
  },
  {
   "cell_type": "code",
   "execution_count": 143,
   "id": "bb29af84",
   "metadata": {},
   "outputs": [
    {
     "data": {
      "image/png": "[encoded data removed]",
      "text/plain": [
       "<Figure size 432x288 with 1 Axes>"
      ]
     },
     "metadata": {
      "needs_background": "light"
     },
     "output_type": "display_data"
    }
   ],
   "source": [
    "plot1 = df_aspr_avg_price.plot(x = 'aspiration', kind = 'bar', legend = False, sort_columns = True)\n",
    "plot1.set_xlabel('Aspiration')\n",
    "plot1.set_ylabel('Avg Price in Dollars')\n",
    "xticks(rotation = 0)\n",
    "mp.show()"
   ]
  },
  {
   "cell_type": "code",
   "execution_count": null,
   "id": "7d49f877",
   "metadata": {},
   "outputs": [],
   "source": [
    "# Conclusion\n",
    "\n",
    "# Cars with turbo aspiration engine are priced more than standard ones"
   ]
  },
  {
   "cell_type": "code",
   "execution_count": 145,
   "id": "45b316d4",
   "metadata": {},
   "outputs": [],
   "source": [
    "# To see the relation of door numbers with price\n",
    "\n",
    "df_door_avg_price = df[['doornumber', 'price']].groupby('doornumber', as_index = False).mean().rename(columns={'price':'door_Avg_price'})"
   ]
  },
  {
   "cell_type": "code",
   "execution_count": 148,
   "id": "e6d63f43",
   "metadata": {},
   "outputs": [
    {
     "data": {
      "image/png": "[encoded data removed]",
      "text/plain": [
       "<Figure size 432x288 with 1 Axes>"
      ]
     },
     "metadata": {
      "needs_background": "light"
     },
     "output_type": "display_data"
    }
   ],
   "source": [
    "plot1 = df_door_avg_price.plot(x = 'doornumber', kind = 'bar', legend = False, sort_columns = True)\n",
    "plot1.set_xlabel('No of Doors')\n",
    "plot1.set_ylabel('Avg price in Dollars')\n",
    "xticks(rotation = 0)\n",
    "mp.show()"
   ]
  },
  {
   "cell_type": "code",
   "execution_count": null,
   "id": "0046d0cf",
   "metadata": {},
   "outputs": [],
   "source": [
    "# Conclusions\n",
    "\n",
    "# Numbers of doors does not seem to have much effect on the price of the car."
   ]
  },
  {
   "cell_type": "code",
   "execution_count": 149,
   "id": "f1b4e48b",
   "metadata": {},
   "outputs": [],
   "source": [
    "# To see the relation of car body with price\n",
    "\n",
    "df_body_avg_price = df[['carbody', 'price']].groupby('carbody', as_index = False).mean().rename(columns={'price':'carbody_avg_price'})"
   ]
  },
  {
   "cell_type": "code",
   "execution_count": 150,
   "id": "1dc68b8a",
   "metadata": {},
   "outputs": [
    {
     "data": {
      "image/png": "[encoded data removed]",
      "text/plain": [
       "<Figure size 432x288 with 1 Axes>"
      ]
     },
     "metadata": {
      "needs_background": "light"
     },
     "output_type": "display_data"
    }
   ],
   "source": [
    "plot1 = df_body_avg_price.plot(x = 'carbody', kind = 'bar', legend = False, sort_columns = True)\n",
    "plot1.set_xlabel('Car Body')\n",
    "plot1.set_ylabel('Avg price in Dollars')\n",
    "xticks(rotation = 0)\n",
    "mp.show()"
   ]
  },
  {
   "cell_type": "code",
   "execution_count": null,
   "id": "f56d0bf5",
   "metadata": {},
   "outputs": [],
   "source": [
    "# Conclusions\n",
    "\n",
    "# Hardtop and Convertible are the most expensive whereas hatchback are the cheapest."
   ]
  },
  {
   "cell_type": "code",
   "execution_count": 151,
   "id": "3968283a",
   "metadata": {},
   "outputs": [],
   "source": [
    "# To see the relation of drivewheel with price\n",
    "\n",
    "df_wheel_avg_price = df[['drivewheel', 'price']].groupby('drivewheel', as_index = False).mean().rename(columns={'price':'drivewheel_avg_price'})"
   ]
  },
  {
   "cell_type": "code",
   "execution_count": 153,
   "id": "34061c64",
   "metadata": {},
   "outputs": [
    {
     "data": {
      "image/png": "[encoded data removed]",
      "text/plain": [
       "<Figure size 432x288 with 1 Axes>"
      ]
     },
     "metadata": {
      "needs_background": "light"
     },
     "output_type": "display_data"
    }
   ],
   "source": [
    "plot1 = df_wheel_avg_price.plot(x = 'drivewheel', kind = 'bar', legend = False, sort_columns = True)\n",
    "plot1.set_xlabel('Drive Wheel Type')\n",
    "plot1.set_ylabel('Avg price in Dollars')\n",
    "xticks(rotation = 0)\n",
    "mp.show()"
   ]
  },
  {
   "cell_type": "code",
   "execution_count": null,
   "id": "29602df8",
   "metadata": {},
   "outputs": [],
   "source": [
    "# Conclusions\n",
    "\n",
    "# Cars with rear wheel drive are more costly."
   ]
  },
  {
   "cell_type": "code",
   "execution_count": 154,
   "id": "d13a847e",
   "metadata": {},
   "outputs": [],
   "source": [
    "# To see the relation of wheelbase with price\n",
    "\n",
    "df_wbase_avg_price = df[['wheelbase', 'price']].groupby('wheelbase', as_index = False).mean().rename(columns={'price':'wheelbase_avg_price'})"
   ]
  },
  {
   "cell_type": "code",
   "execution_count": 156,
   "id": "7651f84c",
   "metadata": {},
   "outputs": [
    {
     "data": {
      "image/png": "[encoded data removed]",
      "text/plain": [
       "<Figure size 432x288 with 1 Axes>"
      ]
     },
     "metadata": {
      "needs_background": "light"
     },
     "output_type": "display_data"
    }
   ],
   "source": [
    "plot1 = df_wbase_avg_price.plot(x = 'wheelbase', kind = 'bar', legend = False, sort_columns = True)\n",
    "plot1.set_xlabel('Wheel Base')\n",
    "plot1.set_ylabel('Avg price in Dollars')\n",
    "xticks(rotation = 90)\n",
    "mp.show()"
   ]
  },
  {
   "cell_type": "code",
   "execution_count": 157,
   "id": "ab53538c",
   "metadata": {},
   "outputs": [
    {
     "data": {
      "image/png": "[encoded data removed]",
      "text/plain": [
       "<Figure size 432x288 with 1 Axes>"
      ]
     },
     "metadata": {
      "needs_background": "light"
     },
     "output_type": "display_data"
    }
   ],
   "source": [
    "# Since bar plot is not clear, lets try scatter plot:\n",
    "\n",
    "plot1 = sb.scatterplot(x = 'wheelbase', y = 'price', data = df)\n",
    "plot1.set_xlabel('Wheelbase (Inches)')\n",
    "plot1.set_ylabel('Price of Car (Dollars)')\n",
    "mp.show()"
   ]
  },
  {
   "cell_type": "code",
   "execution_count": null,
   "id": "e5aac692",
   "metadata": {},
   "outputs": [],
   "source": [
    "# Conclusions\n",
    "\n",
    "# Most of the cars have wheel base around 95 inches.\n",
    "# The price of cars have a slight positive correlation with wheelbase."
   ]
  },
  {
   "cell_type": "code",
   "execution_count": 13,
   "id": "d7ce1f28",
   "metadata": {},
   "outputs": [
    {
     "data": {
      "image/png": "[encoded data removed]",
      "text/plain": [
       "<Figure size 1080x720 with 4 Axes>"
      ]
     },
     "metadata": {
      "needs_background": "light"
     },
     "output_type": "display_data"
    }
   ],
   "source": [
    "# To see the relation, how price varies with the car's dimensions(length, width, height, weight).\n",
    "\n",
    "fig, car_dim = mp.subplots(2,2, figsize=(15,10))\n",
    "plot1 = sb.scatterplot( x = 'carlength', y = 'price', data = df, ax = car_dim[0,0])\n",
    "plot1.set_xlabel('Length of car (Inches)')\n",
    "plot1.set_ylabel('Price of car (Dollars)')\n",
    "\n",
    "plot2 = sb.scatterplot( x = 'carwidth', y = 'price', data = df, ax = car_dim[0,1])\n",
    "plot2.set_xlabel('Width of car (Inches)')\n",
    "plot2.set_ylabel('Price of car (Dollars)')\n",
    "\n",
    "plot3 = sb.scatterplot( x = 'carheight', y = 'price', data = df, ax = car_dim[1,0])\n",
    "plot3.set_xlabel('Height of car (Inches)')\n",
    "plot3.set_ylabel('Price of car (Dollars)')\n",
    "\n",
    "plot4 = sb.scatterplot( x = 'curbweight', y = 'price', data = df, ax = car_dim[1,1])\n",
    "plot4.set_xlabel('Weight of car (Inches)')\n",
    "plot4.set_ylabel('Price of car (Dollars)')\n",
    "mp.tight_layout()"
   ]
  },
  {
   "cell_type": "code",
   "execution_count": null,
   "id": "645f170e",
   "metadata": {},
   "outputs": [],
   "source": [
    "# Conclusion\n",
    "\n",
    "# from above graphs we can conclude that Length, Width, and Weight are positively correlated with the price.\n",
    "# However, there is no much correlation between height of the car and price."
   ]
  },
  {
   "cell_type": "code",
   "execution_count": 25,
   "id": "3b96484a",
   "metadata": {},
   "outputs": [
    {
     "data": {
      "image/png": "[encoded data removed]",
      "text/plain": [
       "<Figure size 1440x360 with 3 Axes>"
      ]
     },
     "metadata": {
      "needs_background": "light"
     },
     "output_type": "display_data"
    }
   ],
   "source": [
    "# To see the relation, how price varies with the engine's specifications.\n",
    "\n",
    "# enginetype\n",
    "fig, eng_spec = mp.subplots(1,3, figsize=(20,5))\n",
    "df_eng_avg_price = df[['enginetype', 'price']].groupby('enginetype', as_index = False).mean().rename(columns={'price':'eng_avg_price'})\n",
    "plot1 = df_eng_avg_price.plot(x = 'enginetype', kind = 'bar', legend = False, sort_columns = True, ax = eng_spec[0])\n",
    "plot1.set_xlabel('Engine Type')\n",
    "plot1.set_ylabel('Avg price in Dollars')\n",
    "xticks(rotation = 0)\n",
    "\n",
    "# cylindernumber\n",
    "df_cyl_avg_price = df[['cylindernumber', 'price']].groupby('cylindernumber', as_index = False).mean().rename(columns={'price':'cyl_avg_price'})\n",
    "plot1 = df_cyl_avg_price.plot(x = 'cylindernumber', kind = 'bar', legend = False, sort_columns = True, ax = eng_spec[1])\n",
    "plot1.set_xlabel('Cylinder Number')\n",
    "plot1.set_ylabel('Avg price in Dollars')\n",
    "xticks(rotation = 0)\n",
    "\n",
    "# fuelsystem\n",
    "df_sys_avg_price = df[['fuelsystem', 'price']].groupby('fuelsystem', as_index = False).mean().rename(columns={'price':'sys_avg_price'})\n",
    "plot1 = df_sys_avg_price.plot(x = 'fuelsystem', kind = 'bar', legend = False, sort_columns = True, ax = eng_spec[2])\n",
    "plot1.set_xlabel('Fuel System')\n",
    "plot1.set_ylabel('Avg price in Dollars')\n",
    "xticks(rotation = 0)\n",
    "mp.show()"
   ]
  },
  {
   "cell_type": "code",
   "execution_count": null,
   "id": "8996df73",
   "metadata": {},
   "outputs": [],
   "source": [
    "# Conclusion\n",
    "\n",
    "# DOHCV and OHCV engine types are priced high, however OHC engine types are priced low.\n",
    "# Eight and twelve cylinder cars have higher price, but three has the lowest.\n",
    "# IDI and MPFI fuel system have higher price, however 1BBI and 2BBI has the lowest price."
   ]
  },
  {
   "cell_type": "code",
   "execution_count": 27,
   "id": "8b331a4b",
   "metadata": {},
   "outputs": [
    {
     "data": {
      "image/png": "[encoded data removed]",
      "text/plain": [
       "<Figure size 1080x1080 with 6 Axes>"
      ]
     },
     "metadata": {
      "needs_background": "light"
     },
     "output_type": "display_data"
    },
    {
     "data": {
      "text/plain": [
       "<Figure size 432x288 with 0 Axes>"
      ]
     },
     "metadata": {},
     "output_type": "display_data"
    }
   ],
   "source": [
    "# enginesize\n",
    "fig, eng_spec = mp.subplots(2,3, figsize=(15,15))\n",
    "\n",
    "#\n",
    "plot1 = sb.scatterplot( x = 'enginesize', y = 'price', data = df, ax = eng_spec[0,0])\n",
    "plot1.set_xlabel('Size of engine (Cubic Inches)')\n",
    "plot1.set_ylabel('Price of car (Dollars)')\n",
    "\n",
    "#\n",
    "plot2 = sb.scatterplot( x = 'boreratio', y = 'price', data = df, ax = eng_spec[0,1])\n",
    "plot2.set_xlabel('Bore Ratio')\n",
    "plot2.set_ylabel('Price of car (Dollars)')\n",
    "\n",
    "#\n",
    "plot3 = sb.scatterplot( x = 'horsepower', y = 'price', data = df, ax = eng_spec[0,2])\n",
    "plot3.set_xlabel('Horsepower')\n",
    "plot3.set_ylabel('Price of car (Dollars)')\n",
    "\n",
    "#\n",
    "plot4 = sb.scatterplot( x = 'stroke', y = 'price', data = df, ax = eng_spec[1,0])\n",
    "plot4.set_xlabel('Stroke')\n",
    "plot4.set_ylabel('Price of car (Dollars)')\n",
    "\n",
    "#\n",
    "plot5 = sb.scatterplot( x = 'compressionratio', y = 'price', data = df, ax = eng_spec[1,1])\n",
    "plot5.set_xlabel('Compression Ratio')\n",
    "plot5.set_ylabel('Price of car (Dollars)')\n",
    "\n",
    "#\n",
    "plot6 = sb.scatterplot( x = 'peakrpm', y = 'price', data = df, ax = eng_spec[1,2])\n",
    "plot6.set_xlabel('Peak RPM')\n",
    "plot6.set_ylabel('Price of car (Dollars)')\n",
    "mp.show()\n",
    "mp.tight_layout()"
   ]
  },
  {
   "cell_type": "code",
   "execution_count": null,
   "id": "43aa726a",
   "metadata": {},
   "outputs": [],
   "source": []
  },
  {
   "cell_type": "code",
   "execution_count": null,
   "id": "04e8460a",
   "metadata": {},
   "outputs": [],
   "source": []
  },
  {
   "cell_type": "code",
   "execution_count": null,
   "id": "964fc099",
   "metadata": {},
   "outputs": [],
   "source": []
  }
 ],
 "metadata": {
  "kernelspec": {
   "display_name": "Python 3 (ipykernel)",
   "language": "python",
   "name": "python3"
  },
  "language_info": {
   "codemirror_mode": {
    "name": "ipython",
    "version": 3
   },
   "file_extension": ".py",
   "mimetype": "text/x-python",
   "name": "python",
   "nbconvert_exporter": "python",
   "pygments_lexer": "ipython3",
   "version": "3.9.7"
  }
 },
 "nbformat": 4,
 "nbformat_minor": 5
}
